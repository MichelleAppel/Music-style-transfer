{
 "cells": [
  {
   "cell_type": "code",
   "execution_count": 1,
   "metadata": {
    "collapsed": true
   },
   "outputs": [],
   "source": [
    "import youtube_dl\n",
    "import re\n",
    "import os\n",
    "from tqdm import tqdm\n",
    "import pandas as pd\n",
    "import numpy as np"
   ]
  },
  {
   "cell_type": "code",
   "execution_count": 2,
   "metadata": {},
   "outputs": [],
   "source": [
    "WAV_DIR = 'wav_files/'\n",
    "genre_dict = {\n",
    "            '/m/064t9': 'Pop_music',\n",
    "            '/m/0glt670': 'Hip_hop_music',\n",
    "            '/m/06by7': 'Rock_music',\n",
    "            '/m/06j6l': 'Rhythm_blues',\n",
    "            '/m/06cqb': 'Reggae',\n",
    "            '/m/0y4f8': 'Vocal',\n",
    "            '/m/07gxw': 'Techno',\n",
    "            }\n",
    "\n",
    "genre_set = set(genre_dict.keys())"
   ]
  },
  {
   "cell_type": "code",
   "execution_count": 3,
   "metadata": {
    "collapsed": true
   },
   "outputs": [],
   "source": [
    "temp_str = []\n",
    "with open('data-files/csv_files/unbalanced_train_segments.csv', 'r') as f:\n",
    "    temp_str = f.readlines()"
   ]
  },
  {
   "cell_type": "code",
   "execution_count": 9,
   "metadata": {},
   "outputs": [
    {
     "name": "stderr",
     "output_type": "stream",
     "text": [
      "100%|██████████| 2041792/2041792 [03:44<00:00, 9088.76it/s] \n"
     ]
    }
   ],
   "source": [
    "data = np.ones(shape=(1,4)) \n",
    "for line in tqdm(temp_str):\n",
    "    line = re.sub('\\s?\"', '', line.strip())\n",
    "    elements = line.split(',')\n",
    "    common_elements = list(genre_set.intersection(elements[3:]))\n",
    "    if  common_elements != []:\n",
    "        data = np.vstack([data, np.array(elements[:3]\n",
    "                                         + [genre_dict[common_elements[0]]]).reshape(1, 4)])\n",
    "\n",
    "df = pd.DataFrame(data[1:], columns=['url', 'start_time', 'end_time', 'class_label'])"
   ]
  },
  {
   "cell_type": "code",
   "execution_count": 5,
   "metadata": {},
   "outputs": [
    {
     "data": {
      "text/html": [
       "<div>\n",
       "<style scoped>\n",
       "    .dataframe tbody tr th:only-of-type {\n",
       "        vertical-align: middle;\n",
       "    }\n",
       "\n",
       "    .dataframe tbody tr th {\n",
       "        vertical-align: top;\n",
       "    }\n",
       "\n",
       "    .dataframe thead th {\n",
       "        text-align: right;\n",
       "    }\n",
       "</style>\n",
       "<table border=\"1\" class=\"dataframe\">\n",
       "  <thead>\n",
       "    <tr style=\"text-align: right;\">\n",
       "      <th></th>\n",
       "      <th>url</th>\n",
       "      <th>start_time</th>\n",
       "      <th>end_time</th>\n",
       "      <th>class_label</th>\n",
       "    </tr>\n",
       "  </thead>\n",
       "  <tbody>\n",
       "    <tr>\n",
       "      <th>0</th>\n",
       "      <td>--1rvyPa8UM</td>\n",
       "      <td>40.000</td>\n",
       "      <td>50.000</td>\n",
       "      <td>Hip_hop_music</td>\n",
       "    </tr>\n",
       "    <tr>\n",
       "      <th>1</th>\n",
       "      <td>--4kp9W7cNY</td>\n",
       "      <td>160.000</td>\n",
       "      <td>170.000</td>\n",
       "      <td>Reggae</td>\n",
       "    </tr>\n",
       "    <tr>\n",
       "      <th>2</th>\n",
       "      <td>--6HJzEIsFs</td>\n",
       "      <td>30.000</td>\n",
       "      <td>40.000</td>\n",
       "      <td>Rhythm_blues</td>\n",
       "    </tr>\n",
       "    <tr>\n",
       "      <th>3</th>\n",
       "      <td>--AQ3p3ymeE</td>\n",
       "      <td>70.000</td>\n",
       "      <td>80.000</td>\n",
       "      <td>Rock_music</td>\n",
       "    </tr>\n",
       "    <tr>\n",
       "      <th>4</th>\n",
       "      <td>--BMVWju1-w</td>\n",
       "      <td>30.000</td>\n",
       "      <td>40.000</td>\n",
       "      <td>Rhythm_blues</td>\n",
       "    </tr>\n",
       "  </tbody>\n",
       "</table>\n",
       "</div>"
      ],
      "text/plain": [
       "           url start_time  end_time    class_label\n",
       "0  --1rvyPa8UM     40.000    50.000  Hip_hop_music\n",
       "1  --4kp9W7cNY    160.000   170.000         Reggae\n",
       "2  --6HJzEIsFs     30.000    40.000   Rhythm_blues\n",
       "3  --AQ3p3ymeE     70.000    80.000     Rock_music\n",
       "4  --BMVWju1-w     30.000    40.000   Rhythm_blues"
      ]
     },
     "execution_count": 5,
     "metadata": {},
     "output_type": "execute_result"
    }
   ],
   "source": [
    "df.head()"
   ]
  },
  {
   "cell_type": "code",
   "execution_count": null,
   "metadata": {
    "collapsed": true
   },
   "outputs": [],
   "source": []
  },
  {
   "cell_type": "code",
   "execution_count": 10,
   "metadata": {},
   "outputs": [],
   "source": [
    "# Remove 10k Techno audio clips - to make the data more balanced\n",
    "np.random.seed(10)\n",
    "drop_indices = np.random.choice(df[df['class_label'] == 'Techno'].index, size=10000, replace=False)\n",
    "df.drop(labels=drop_indices, axis=0, inplace=True)\n",
    "df.reset_index(drop=True, inplace=False)\n",
    "\n",
    "# Time to INT \n",
    "df['start_time'] = df['start_time'].map(lambda x: np.int32(np.float(x)))\n",
    "df['end_time'] = df['end_time'].map(lambda x: np.int32(np.float(x)))"
   ]
  },
  {
   "cell_type": "code",
   "execution_count": 11,
   "metadata": {},
   "outputs": [
    {
     "data": {
      "text/plain": [
       "Pop_music        8386\n",
       "Rock_music       8278\n",
       "Hip_hop_music    7350\n",
       "Techno           7067\n",
       "Rhythm_blues     4460\n",
       "Vocal            3459\n",
       "Reggae           3107\n",
       "Name: class_label, dtype: int64"
      ]
     },
     "execution_count": 11,
     "metadata": {},
     "output_type": "execute_result"
    }
   ],
   "source": [
    "df['class_label'].value_counts()"
   ]
  },
  {
   "cell_type": "code",
   "execution_count": 46,
   "metadata": {},
   "outputs": [],
   "source": []
  },
  {
   "cell_type": "markdown",
   "metadata": {},
   "source": [
    "Example:<br>\n",
    "Step 1:<br>\n",
    "`ffmpeg -ss 5 -i $(youtube-dl -f 140 --get-url 'https://www.youtube.com/embed/---1_cCGK4M') -t 10 -c:v copy -c:a copy test.mp4`<br>\n",
    "Starting time is 5 seconds, duration is 10s.\n",
    "\n",
    "Refer: https://github.com/rg3/youtube-dl/issues/622\n",
    "\n",
    "Step 2:<br>\n",
    "`ffmpeg -i test.mp4 -vn -acodec pcm_s16le -ar 44100 -ac 1 output.wav` <br>\n",
    "PCM-16, 44k sampling, 1-channel (Mono)\n",
    "<br>\n",
    "Refer: https://superuser.com/questions/609740/extracting-wav-from-mp4-while-preserving-the-highest-possible-quality"
   ]
  },
  {
   "cell_type": "code",
   "execution_count": 9,
   "metadata": {},
   "outputs": [
    {
     "name": "stderr",
     "output_type": "stream",
     "text": [
      "27it [01:02,  2.32s/it]\n"
     ]
    }
   ],
   "source": [
    "for i, row in tqdm(df.iterrows()):\n",
    "    url = \"'https://www.youtube.com/embed/\" + row['url'] + \"'\"\n",
    "    file_name = str(i)+\"_\"+row['class_label']\n",
    "    \n",
    "    try:\n",
    "        command_1 = \"ffmpeg -ss \" + str(row['start_time']) + \" -i $(youtube-dl -f 140 --get-url \" +\\\n",
    "                    url + \") -t 10 -c:v copy -c:a copy \" + file_name + \".mp4\"\n",
    "\n",
    "        command_2 = \"ffmpeg -i \"+ file_name +\".mp4 -vn -acodec pcm_s16le -ar 44100 -ac 1 \" + WAV_DIR + file_name + \".wav\"\n",
    "\n",
    "        command_3 = 'rm ' + file_name + '.mp4' \n",
    "\n",
    "        # Run the 3 commands\n",
    "        os.system(command_1 + ';' + command_2 + ';' + command_3 + ';')\n",
    "    \n",
    "    except:\n",
    "        print(i, url)\n",
    "        pass"
   ]
  },
  {
   "cell_type": "code",
   "execution_count": null,
   "metadata": {
    "collapsed": true
   },
   "outputs": [],
   "source": []
  }
 ],
 "metadata": {
  "kernelspec": {
   "display_name": "Python 3",
   "language": "python",
   "name": "python3"
  },
  "language_info": {
   "codemirror_mode": {
    "name": "ipython",
    "version": 3
   },
   "file_extension": ".py",
   "mimetype": "text/x-python",
   "name": "python",
   "nbconvert_exporter": "python",
   "pygments_lexer": "ipython3",
   "version": "3.6.1"
  }
 },
 "nbformat": 4,
 "nbformat_minor": 2
}
